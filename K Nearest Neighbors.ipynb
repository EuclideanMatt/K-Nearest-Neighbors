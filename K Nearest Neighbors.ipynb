{
 "cells": [
  {
   "cell_type": "code",
   "id": "initial_id",
   "metadata": {
    "collapsed": true,
    "ExecuteTime": {
     "end_time": "2024-10-03T21:57:29.317718Z",
     "start_time": "2024-10-03T21:57:29.144978Z"
    }
   },
   "source": [
    "import pandas as pd\n",
    "import scipy.stats\n",
    "import matplotlib.pyplot as plt\n",
    "import numpy as np\n",
    "import seaborn as sns\n",
    "import matplotlib.patches as mpatches\n",
    "from statistics import mode\n",
    "from math import sqrt\n",
    "from fancyimpute import KNN\n",
    "from sklearn import metrics\n",
    "from sklearn.neighbors import KNeighborsClassifier\n",
    "from sklearn.model_selection import train_test_split\n",
    "from sklearn.datasets import make_blobs\n",
    "from sklearn.preprocessing import OrdinalEncoder\n",
    "from sklearn.preprocessing import StandardScaler\n",
    "from sklearn.metrics import mean_squared_error\n"
   ],
   "outputs": [
    {
     "ename": "ImportError",
     "evalue": "cannot import name 'numpy_interface' from partially initialized module 'cvxpy.interface' (most likely due to a circular import) (C:\\Users\\Epicm\\Desktop\\data_bases\\descriptive_stats_exploratory_anlysis\\.venv\\lib\\site-packages\\cvxpy\\interface\\__init__.py)",
     "output_type": "error",
     "traceback": [
      "\u001B[1;31m---------------------------------------------------------------------------\u001B[0m",
      "\u001B[1;31mImportError\u001B[0m                               Traceback (most recent call last)",
      "Cell \u001B[1;32mIn[30], line 9\u001B[0m\n\u001B[0;32m      7\u001B[0m \u001B[38;5;28;01mfrom\u001B[39;00m \u001B[38;5;21;01mstatistics\u001B[39;00m \u001B[38;5;28;01mimport\u001B[39;00m mode\n\u001B[0;32m      8\u001B[0m \u001B[38;5;28;01mfrom\u001B[39;00m \u001B[38;5;21;01mmath\u001B[39;00m \u001B[38;5;28;01mimport\u001B[39;00m sqrt\n\u001B[1;32m----> 9\u001B[0m \u001B[38;5;28;01mfrom\u001B[39;00m \u001B[38;5;21;01mfancyimpute\u001B[39;00m \u001B[38;5;28;01mimport\u001B[39;00m KNN\n\u001B[0;32m     10\u001B[0m \u001B[38;5;28;01mfrom\u001B[39;00m \u001B[38;5;21;01msklearn\u001B[39;00m \u001B[38;5;28;01mimport\u001B[39;00m metrics\n\u001B[0;32m     11\u001B[0m \u001B[38;5;28;01mfrom\u001B[39;00m \u001B[38;5;21;01msklearn\u001B[39;00m\u001B[38;5;21;01m.\u001B[39;00m\u001B[38;5;21;01mneighbors\u001B[39;00m \u001B[38;5;28;01mimport\u001B[39;00m KNeighborsClassifier\n",
      "File \u001B[1;32m~\\Desktop\\data_bases\\descriptive_stats_exploratory_anlysis\\.venv\\lib\\site-packages\\fancyimpute\\__init__.py:4\u001B[0m\n\u001B[0;32m      1\u001B[0m \u001B[38;5;28;01mfrom\u001B[39;00m \u001B[38;5;21;01m__future__\u001B[39;00m \u001B[38;5;28;01mimport\u001B[39;00m absolute_import, print_function, division\n\u001B[0;32m      3\u001B[0m \u001B[38;5;28;01mfrom\u001B[39;00m \u001B[38;5;21;01m.\u001B[39;00m\u001B[38;5;21;01msolver\u001B[39;00m \u001B[38;5;28;01mimport\u001B[39;00m Solver\n\u001B[1;32m----> 4\u001B[0m \u001B[38;5;28;01mfrom\u001B[39;00m \u001B[38;5;21;01m.\u001B[39;00m\u001B[38;5;21;01mnuclear_norm_minimization\u001B[39;00m \u001B[38;5;28;01mimport\u001B[39;00m NuclearNormMinimization\n\u001B[0;32m      5\u001B[0m \u001B[38;5;28;01mfrom\u001B[39;00m \u001B[38;5;21;01m.\u001B[39;00m\u001B[38;5;21;01mmatrix_factorization\u001B[39;00m \u001B[38;5;28;01mimport\u001B[39;00m MatrixFactorization\n\u001B[0;32m      6\u001B[0m \u001B[38;5;28;01mfrom\u001B[39;00m \u001B[38;5;21;01m.\u001B[39;00m\u001B[38;5;21;01miterative_svd\u001B[39;00m \u001B[38;5;28;01mimport\u001B[39;00m IterativeSVD\n",
      "File \u001B[1;32m~\\Desktop\\data_bases\\descriptive_stats_exploratory_anlysis\\.venv\\lib\\site-packages\\fancyimpute\\nuclear_norm_minimization.py:13\u001B[0m\n\u001B[0;32m      1\u001B[0m \u001B[38;5;66;03m# Licensed under the Apache License, Version 2.0 (the \"License\");\u001B[39;00m\n\u001B[0;32m      2\u001B[0m \u001B[38;5;66;03m# you may not use this file except in compliance with the License.\u001B[39;00m\n\u001B[0;32m      3\u001B[0m \u001B[38;5;66;03m# You may obtain a copy of the License at\u001B[39;00m\n\u001B[1;32m   (...)\u001B[0m\n\u001B[0;32m     10\u001B[0m \u001B[38;5;66;03m# See the License for the specific language governing permissions and\u001B[39;00m\n\u001B[0;32m     11\u001B[0m \u001B[38;5;66;03m# limitations under the License.\u001B[39;00m\n\u001B[1;32m---> 13\u001B[0m \u001B[38;5;28;01mimport\u001B[39;00m \u001B[38;5;21;01mcvxpy\u001B[39;00m\n\u001B[0;32m     15\u001B[0m \u001B[38;5;28;01mfrom\u001B[39;00m \u001B[38;5;21;01m.\u001B[39;00m\u001B[38;5;21;01msolver\u001B[39;00m \u001B[38;5;28;01mimport\u001B[39;00m Solver\n\u001B[0;32m     17\u001B[0m \u001B[38;5;28;01mfrom\u001B[39;00m \u001B[38;5;21;01msklearn\u001B[39;00m\u001B[38;5;21;01m.\u001B[39;00m\u001B[38;5;21;01mutils\u001B[39;00m \u001B[38;5;28;01mimport\u001B[39;00m check_array\n",
      "File \u001B[1;32m~\\Desktop\\data_bases\\descriptive_stats_exploratory_anlysis\\.venv\\lib\\site-packages\\cvxpy\\__init__.py:19\u001B[0m\n\u001B[0;32m      1\u001B[0m \u001B[38;5;124;03m\"\"\"\u001B[39;00m\n\u001B[0;32m      2\u001B[0m \u001B[38;5;124;03mCopyright, the CVXPY authors\u001B[39;00m\n\u001B[0;32m      3\u001B[0m \n\u001B[1;32m   (...)\u001B[0m\n\u001B[0;32m     14\u001B[0m \u001B[38;5;124;03mlimitations under the License.\u001B[39;00m\n\u001B[0;32m     15\u001B[0m \u001B[38;5;124;03m\"\"\"\u001B[39;00m\n\u001B[0;32m     16\u001B[0m \u001B[38;5;28;01mfrom\u001B[39;00m \u001B[38;5;21;01mcvxpy\u001B[39;00m\u001B[38;5;21;01m.\u001B[39;00m\u001B[38;5;21;01mversion\u001B[39;00m \u001B[38;5;28;01mimport\u001B[39;00m (\n\u001B[0;32m     17\u001B[0m     version \u001B[38;5;28;01mas\u001B[39;00m __version__,\n\u001B[0;32m     18\u001B[0m )  \u001B[38;5;66;03m# cvxpy/version.py is auto-generated\u001B[39;00m\n\u001B[1;32m---> 19\u001B[0m \u001B[38;5;28;01mfrom\u001B[39;00m \u001B[38;5;21;01mcvxpy\u001B[39;00m\u001B[38;5;21;01m.\u001B[39;00m\u001B[38;5;21;01matoms\u001B[39;00m \u001B[38;5;28;01mimport\u001B[39;00m \u001B[38;5;241m*\u001B[39m\n\u001B[0;32m     20\u001B[0m \u001B[38;5;28;01mfrom\u001B[39;00m \u001B[38;5;21;01mcvxpy\u001B[39;00m\u001B[38;5;21;01m.\u001B[39;00m\u001B[38;5;21;01mconstraints\u001B[39;00m \u001B[38;5;28;01mimport\u001B[39;00m (\n\u001B[0;32m     21\u001B[0m     Constraint \u001B[38;5;28;01mas\u001B[39;00m Constraint,\n\u001B[0;32m     22\u001B[0m     Cone \u001B[38;5;28;01mas\u001B[39;00m Cone,\n\u001B[1;32m   (...)\u001B[0m\n\u001B[0;32m     33\u001B[0m     FiniteSet \u001B[38;5;28;01mas\u001B[39;00m FiniteSet,\n\u001B[0;32m     34\u001B[0m )\n\u001B[0;32m     35\u001B[0m \u001B[38;5;28;01mfrom\u001B[39;00m \u001B[38;5;21;01mcvxpy\u001B[39;00m\u001B[38;5;21;01m.\u001B[39;00m\u001B[38;5;21;01merror\u001B[39;00m \u001B[38;5;28;01mimport\u001B[39;00m (\n\u001B[0;32m     36\u001B[0m     DCPError \u001B[38;5;28;01mas\u001B[39;00m DCPError,\n\u001B[0;32m     37\u001B[0m     DGPError \u001B[38;5;28;01mas\u001B[39;00m DGPError,\n\u001B[1;32m   (...)\u001B[0m\n\u001B[0;32m     42\u001B[0m     warnings_enabled \u001B[38;5;28;01mas\u001B[39;00m warnings_enabled,\n\u001B[0;32m     43\u001B[0m )\n",
      "File \u001B[1;32m~\\Desktop\\data_bases\\descriptive_stats_exploratory_anlysis\\.venv\\lib\\site-packages\\cvxpy\\atoms\\__init__.py:17\u001B[0m\n\u001B[0;32m      1\u001B[0m \u001B[38;5;124;03m\"\"\"\u001B[39;00m\n\u001B[0;32m      2\u001B[0m \u001B[38;5;124;03mCopyright 2013 Steven Diamond\u001B[39;00m\n\u001B[0;32m      3\u001B[0m \n\u001B[1;32m   (...)\u001B[0m\n\u001B[0;32m     14\u001B[0m \u001B[38;5;124;03mlimitations under the License.\u001B[39;00m\n\u001B[0;32m     15\u001B[0m \u001B[38;5;124;03m\"\"\"\u001B[39;00m\n\u001B[1;32m---> 17\u001B[0m \u001B[38;5;28;01mfrom\u001B[39;00m \u001B[38;5;21;01mcvxpy\u001B[39;00m\u001B[38;5;21;01m.\u001B[39;00m\u001B[38;5;21;01matoms\u001B[39;00m\u001B[38;5;21;01m.\u001B[39;00m\u001B[38;5;21;01maffine\u001B[39;00m\u001B[38;5;21;01m.\u001B[39;00m\u001B[38;5;21;01mbinary_operators\u001B[39;00m \u001B[38;5;28;01mimport\u001B[39;00m (matmul, multiply,\n\u001B[0;32m     18\u001B[0m                                                  vdot, scalar_product, outer,)\n\u001B[0;32m     19\u001B[0m \u001B[38;5;28;01mfrom\u001B[39;00m \u001B[38;5;21;01mcvxpy\u001B[39;00m\u001B[38;5;21;01m.\u001B[39;00m\u001B[38;5;21;01matoms\u001B[39;00m\u001B[38;5;21;01m.\u001B[39;00m\u001B[38;5;21;01maffine\u001B[39;00m\u001B[38;5;21;01m.\u001B[39;00m\u001B[38;5;21;01mbmat\u001B[39;00m \u001B[38;5;28;01mimport\u001B[39;00m bmat\n\u001B[0;32m     20\u001B[0m \u001B[38;5;28;01mfrom\u001B[39;00m \u001B[38;5;21;01mcvxpy\u001B[39;00m\u001B[38;5;21;01m.\u001B[39;00m\u001B[38;5;21;01matoms\u001B[39;00m\u001B[38;5;21;01m.\u001B[39;00m\u001B[38;5;21;01maffine\u001B[39;00m\u001B[38;5;21;01m.\u001B[39;00m\u001B[38;5;21;01mconj\u001B[39;00m \u001B[38;5;28;01mimport\u001B[39;00m conj\n",
      "File \u001B[1;32m~\\Desktop\\data_bases\\descriptive_stats_exploratory_anlysis\\.venv\\lib\\site-packages\\cvxpy\\atoms\\affine\\binary_operators.py:26\u001B[0m\n\u001B[0;32m     23\u001B[0m \u001B[38;5;28;01mimport\u001B[39;00m \u001B[38;5;21;01mnumpy\u001B[39;00m \u001B[38;5;28;01mas\u001B[39;00m \u001B[38;5;21;01mnp\u001B[39;00m\n\u001B[0;32m     24\u001B[0m \u001B[38;5;28;01mimport\u001B[39;00m \u001B[38;5;21;01mscipy\u001B[39;00m\u001B[38;5;21;01m.\u001B[39;00m\u001B[38;5;21;01msparse\u001B[39;00m \u001B[38;5;28;01mas\u001B[39;00m \u001B[38;5;21;01msp\u001B[39;00m\n\u001B[1;32m---> 26\u001B[0m \u001B[38;5;28;01mimport\u001B[39;00m \u001B[38;5;21;01mcvxpy\u001B[39;00m\u001B[38;5;21;01m.\u001B[39;00m\u001B[38;5;21;01minterface\u001B[39;00m \u001B[38;5;28;01mas\u001B[39;00m \u001B[38;5;21;01mintf\u001B[39;00m\n\u001B[0;32m     27\u001B[0m \u001B[38;5;28;01mimport\u001B[39;00m \u001B[38;5;21;01mcvxpy\u001B[39;00m\u001B[38;5;21;01m.\u001B[39;00m\u001B[38;5;21;01mlin_ops\u001B[39;00m\u001B[38;5;21;01m.\u001B[39;00m\u001B[38;5;21;01mlin_op\u001B[39;00m \u001B[38;5;28;01mas\u001B[39;00m \u001B[38;5;21;01mlo\u001B[39;00m\n\u001B[0;32m     28\u001B[0m \u001B[38;5;28;01mimport\u001B[39;00m \u001B[38;5;21;01mcvxpy\u001B[39;00m\u001B[38;5;21;01m.\u001B[39;00m\u001B[38;5;21;01mlin_ops\u001B[39;00m\u001B[38;5;21;01m.\u001B[39;00m\u001B[38;5;21;01mlin_utils\u001B[39;00m \u001B[38;5;28;01mas\u001B[39;00m \u001B[38;5;21;01mlu\u001B[39;00m\n",
      "File \u001B[1;32m~\\Desktop\\data_bases\\descriptive_stats_exploratory_anlysis\\.venv\\lib\\site-packages\\cvxpy\\interface\\__init__.py:17\u001B[0m\n\u001B[0;32m      1\u001B[0m \u001B[38;5;124;03m\"\"\"\u001B[39;00m\n\u001B[0;32m      2\u001B[0m \u001B[38;5;124;03mCopyright 2013 Steven Diamond\u001B[39;00m\n\u001B[0;32m      3\u001B[0m \n\u001B[1;32m   (...)\u001B[0m\n\u001B[0;32m     14\u001B[0m \u001B[38;5;124;03mlimitations under the License.\u001B[39;00m\n\u001B[0;32m     15\u001B[0m \u001B[38;5;124;03m\"\"\"\u001B[39;00m\n\u001B[1;32m---> 17\u001B[0m \u001B[38;5;28;01mfrom\u001B[39;00m \u001B[38;5;21;01mcvxpy\u001B[39;00m\u001B[38;5;21;01m.\u001B[39;00m\u001B[38;5;21;01minterface\u001B[39;00m\u001B[38;5;21;01m.\u001B[39;00m\u001B[38;5;21;01mmatrix_utilities\u001B[39;00m \u001B[38;5;28;01mimport\u001B[39;00m \u001B[38;5;241m*\u001B[39m\n",
      "File \u001B[1;32m~\\Desktop\\data_bases\\descriptive_stats_exploratory_anlysis\\.venv\\lib\\site-packages\\cvxpy\\interface\\matrix_utilities.py:22\u001B[0m\n\u001B[0;32m     19\u001B[0m \u001B[38;5;28;01mimport\u001B[39;00m \u001B[38;5;21;01mnumpy\u001B[39;00m \u001B[38;5;28;01mas\u001B[39;00m \u001B[38;5;21;01mnp\u001B[39;00m\n\u001B[0;32m     20\u001B[0m \u001B[38;5;28;01mimport\u001B[39;00m \u001B[38;5;21;01mscipy\u001B[39;00m\u001B[38;5;21;01m.\u001B[39;00m\u001B[38;5;21;01msparse\u001B[39;00m \u001B[38;5;28;01mas\u001B[39;00m \u001B[38;5;21;01msp\u001B[39;00m\n\u001B[1;32m---> 22\u001B[0m \u001B[38;5;28;01mfrom\u001B[39;00m \u001B[38;5;21;01mcvxpy\u001B[39;00m\u001B[38;5;21;01m.\u001B[39;00m\u001B[38;5;21;01minterface\u001B[39;00m \u001B[38;5;28;01mimport\u001B[39;00m numpy_interface \u001B[38;5;28;01mas\u001B[39;00m np_intf\n\u001B[0;32m     24\u001B[0m \u001B[38;5;66;03m# A mapping of class to interface.\u001B[39;00m\n\u001B[0;32m     25\u001B[0m INTERFACES \u001B[38;5;241m=\u001B[39m {np\u001B[38;5;241m.\u001B[39mndarray: np_intf\u001B[38;5;241m.\u001B[39mNDArrayInterface(),\n\u001B[0;32m     26\u001B[0m               np\u001B[38;5;241m.\u001B[39mmatrix: np_intf\u001B[38;5;241m.\u001B[39mMatrixInterface(),\n\u001B[0;32m     27\u001B[0m               sp\u001B[38;5;241m.\u001B[39mcsc_matrix: np_intf\u001B[38;5;241m.\u001B[39mSparseMatrixInterface(),\n\u001B[0;32m     28\u001B[0m               }\n",
      "\u001B[1;31mImportError\u001B[0m: cannot import name 'numpy_interface' from partially initialized module 'cvxpy.interface' (most likely due to a circular import) (C:\\Users\\Epicm\\Desktop\\data_bases\\descriptive_stats_exploratory_anlysis\\.venv\\lib\\site-packages\\cvxpy\\interface\\__init__.py)"
     ]
    }
   ],
   "execution_count": 30
  },
  {
   "metadata": {},
   "cell_type": "code",
   "outputs": [],
   "execution_count": null,
   "source": "from sklearn.metrics import classification_report, confusion_matrix",
   "id": "c7fbb397776fd498"
  },
  {
   "metadata": {},
   "cell_type": "code",
   "outputs": [],
   "execution_count": null,
   "source": "### Reading in our Dataset ###",
   "id": "fcbd587b88309e21"
  },
  {
   "metadata": {
    "ExecuteTime": {
     "end_time": "2024-10-03T21:38:28.042148Z",
     "start_time": "2024-10-03T21:38:27.950890Z"
    }
   },
   "cell_type": "code",
   "source": "dataset_df = pd.read_csv(r\"C:\\Users\\Epicm\\Desktop\\data\\knn\\knn-training-data.txt\")",
   "id": "a53000065ccc78f2",
   "outputs": [],
   "execution_count": 4
  },
  {
   "metadata": {
    "ExecuteTime": {
     "end_time": "2024-10-03T21:38:51.859222Z",
     "start_time": "2024-10-03T21:38:51.828396Z"
    }
   },
   "cell_type": "code",
   "source": [
    "# let's get rid of customer ID, we have an index\n",
    "dataset_df = dataset_df.drop('customer_id', axis = 1)\n",
    "\n",
    "# now let's also get rid of most popular category, a categorical var \n",
    "# we don't need in our dataset\n",
    "dataset_df = dataset_df.drop('most_popular_category', axis = 1)"
   ],
   "id": "3492febb6d74bcf2",
   "outputs": [],
   "execution_count": 5
  },
  {
   "metadata": {
    "ExecuteTime": {
     "end_time": "2024-10-03T21:39:01.415541Z",
     "start_time": "2024-10-03T21:39:01.391186Z"
    }
   },
   "cell_type": "code",
   "source": "dataset_df.head()",
   "id": "1475dbd10ed119a8",
   "outputs": [
    {
     "data": {
      "text/plain": [
       "   relationship_days  total_spend  beverage_categories     segment\n",
       "0                240       230.75                    9    explorer\n",
       "1                218       117.50                    3    explorer\n",
       "2                139       105.50                    4    explorer\n",
       "3                748        18.00                    1      cheapo\n",
       "4                743       404.50                    6  loyal core"
      ],
      "text/html": [
       "<div>\n",
       "<style scoped>\n",
       "    .dataframe tbody tr th:only-of-type {\n",
       "        vertical-align: middle;\n",
       "    }\n",
       "\n",
       "    .dataframe tbody tr th {\n",
       "        vertical-align: top;\n",
       "    }\n",
       "\n",
       "    .dataframe thead th {\n",
       "        text-align: right;\n",
       "    }\n",
       "</style>\n",
       "<table border=\"1\" class=\"dataframe\">\n",
       "  <thead>\n",
       "    <tr style=\"text-align: right;\">\n",
       "      <th></th>\n",
       "      <th>relationship_days</th>\n",
       "      <th>total_spend</th>\n",
       "      <th>beverage_categories</th>\n",
       "      <th>segment</th>\n",
       "    </tr>\n",
       "  </thead>\n",
       "  <tbody>\n",
       "    <tr>\n",
       "      <th>0</th>\n",
       "      <td>240</td>\n",
       "      <td>230.75</td>\n",
       "      <td>9</td>\n",
       "      <td>explorer</td>\n",
       "    </tr>\n",
       "    <tr>\n",
       "      <th>1</th>\n",
       "      <td>218</td>\n",
       "      <td>117.50</td>\n",
       "      <td>3</td>\n",
       "      <td>explorer</td>\n",
       "    </tr>\n",
       "    <tr>\n",
       "      <th>2</th>\n",
       "      <td>139</td>\n",
       "      <td>105.50</td>\n",
       "      <td>4</td>\n",
       "      <td>explorer</td>\n",
       "    </tr>\n",
       "    <tr>\n",
       "      <th>3</th>\n",
       "      <td>748</td>\n",
       "      <td>18.00</td>\n",
       "      <td>1</td>\n",
       "      <td>cheapo</td>\n",
       "    </tr>\n",
       "    <tr>\n",
       "      <th>4</th>\n",
       "      <td>743</td>\n",
       "      <td>404.50</td>\n",
       "      <td>6</td>\n",
       "      <td>loyal core</td>\n",
       "    </tr>\n",
       "  </tbody>\n",
       "</table>\n",
       "</div>"
      ]
     },
     "execution_count": 6,
     "metadata": {},
     "output_type": "execute_result"
    }
   ],
   "execution_count": 6
  },
  {
   "metadata": {},
   "cell_type": "code",
   "outputs": [],
   "execution_count": null,
   "source": "",
   "id": "ecb1257b07401b4c"
  },
  {
   "metadata": {},
   "cell_type": "code",
   "outputs": [],
   "execution_count": null,
   "source": "",
   "id": "d05b7e5cb537c1bd"
  },
  {
   "metadata": {},
   "cell_type": "code",
   "outputs": [],
   "execution_count": null,
   "source": "### Creating Training Dataset ###",
   "id": "1a5f2215eff9b9fe"
  },
  {
   "metadata": {
    "ExecuteTime": {
     "end_time": "2024-10-03T21:39:32.592894Z",
     "start_time": "2024-10-03T21:39:32.569968Z"
    }
   },
   "cell_type": "code",
   "source": [
    "training_df = dataset_df\n",
    "\n",
    "#create labels\n",
    "cols = ['explorer', 'cheapo', 'loyal core', 'newbie']\n",
    "\n",
    "#add labels\n",
    "training_df.rename(columns = {cols[0]:0, cols[1]:1, cols[2]:2, cols[3]:3 })\n",
    "\n",
    "#add a distance column\n",
    "training_df['distance'] = '9999'\n",
    "\n",
    "#view our training DF\n",
    "training_df.head()"
   ],
   "id": "a8fb4458289f16e8",
   "outputs": [
    {
     "data": {
      "text/plain": [
       "   relationship_days  total_spend  beverage_categories     segment distance\n",
       "0                240       230.75                    9    explorer     9999\n",
       "1                218       117.50                    3    explorer     9999\n",
       "2                139       105.50                    4    explorer     9999\n",
       "3                748        18.00                    1      cheapo     9999\n",
       "4                743       404.50                    6  loyal core     9999"
      ],
      "text/html": [
       "<div>\n",
       "<style scoped>\n",
       "    .dataframe tbody tr th:only-of-type {\n",
       "        vertical-align: middle;\n",
       "    }\n",
       "\n",
       "    .dataframe tbody tr th {\n",
       "        vertical-align: top;\n",
       "    }\n",
       "\n",
       "    .dataframe thead th {\n",
       "        text-align: right;\n",
       "    }\n",
       "</style>\n",
       "<table border=\"1\" class=\"dataframe\">\n",
       "  <thead>\n",
       "    <tr style=\"text-align: right;\">\n",
       "      <th></th>\n",
       "      <th>relationship_days</th>\n",
       "      <th>total_spend</th>\n",
       "      <th>beverage_categories</th>\n",
       "      <th>segment</th>\n",
       "      <th>distance</th>\n",
       "    </tr>\n",
       "  </thead>\n",
       "  <tbody>\n",
       "    <tr>\n",
       "      <th>0</th>\n",
       "      <td>240</td>\n",
       "      <td>230.75</td>\n",
       "      <td>9</td>\n",
       "      <td>explorer</td>\n",
       "      <td>9999</td>\n",
       "    </tr>\n",
       "    <tr>\n",
       "      <th>1</th>\n",
       "      <td>218</td>\n",
       "      <td>117.50</td>\n",
       "      <td>3</td>\n",
       "      <td>explorer</td>\n",
       "      <td>9999</td>\n",
       "    </tr>\n",
       "    <tr>\n",
       "      <th>2</th>\n",
       "      <td>139</td>\n",
       "      <td>105.50</td>\n",
       "      <td>4</td>\n",
       "      <td>explorer</td>\n",
       "      <td>9999</td>\n",
       "    </tr>\n",
       "    <tr>\n",
       "      <th>3</th>\n",
       "      <td>748</td>\n",
       "      <td>18.00</td>\n",
       "      <td>1</td>\n",
       "      <td>cheapo</td>\n",
       "      <td>9999</td>\n",
       "    </tr>\n",
       "    <tr>\n",
       "      <th>4</th>\n",
       "      <td>743</td>\n",
       "      <td>404.50</td>\n",
       "      <td>6</td>\n",
       "      <td>loyal core</td>\n",
       "      <td>9999</td>\n",
       "    </tr>\n",
       "  </tbody>\n",
       "</table>\n",
       "</div>"
      ]
     },
     "execution_count": 7,
     "metadata": {},
     "output_type": "execute_result"
    }
   ],
   "execution_count": 7
  },
  {
   "metadata": {},
   "cell_type": "code",
   "outputs": [],
   "execution_count": null,
   "source": "",
   "id": "347f19ef744b5ea7"
  },
  {
   "metadata": {},
   "cell_type": "code",
   "outputs": [],
   "execution_count": null,
   "source": "# Now let's create our target for our KNN, this will be the first row of our training_df.",
   "id": "a56641de963c8400"
  },
  {
   "metadata": {
    "ExecuteTime": {
     "end_time": "2024-10-03T21:39:47.331488Z",
     "start_time": "2024-10-03T21:39:47.315531Z"
    }
   },
   "cell_type": "code",
   "source": [
    "target = pd.Series([36,240,230.75,9])\n",
    "#target"
   ],
   "id": "44a7dad4afce18fc",
   "outputs": [],
   "execution_count": 8
  },
  {
   "metadata": {},
   "cell_type": "code",
   "outputs": [],
   "execution_count": null,
   "source": "# Now that we have our target we will measure the 'distance' between this target point and all the other points in our dataset. I will be using Euclidean Distance.",
   "id": "f52c584850d0a77f"
  },
  {
   "metadata": {
    "ExecuteTime": {
     "end_time": "2024-10-03T21:40:02.691219Z",
     "start_time": "2024-10-03T21:40:02.674635Z"
    }
   },
   "cell_type": "code",
   "source": "training_df['distance'] = (((training_df.loc[:,'relationship_days']-target[0])**2 + (training_df.loc[:,'total_spend']-target[1])**2 + (training_df.loc[:,'beverage_categories']-target[2])**2)** 0.5)\n",
   "id": "cb2484f47ba596bb",
   "outputs": [],
   "execution_count": 9
  },
  {
   "metadata": {
    "ExecuteTime": {
     "end_time": "2024-10-03T21:40:29.101624Z",
     "start_time": "2024-10-03T21:40:29.078202Z"
    }
   },
   "cell_type": "code",
   "source": "training_df.sort_values('distance', ascending = True).head()",
   "id": "bf41b893861e0641",
   "outputs": [
    {
     "data": {
      "text/plain": [
       "       relationship_days  total_spend  beverage_categories   segment  \\\n",
       "15725                103       231.25                   12  explorer   \n",
       "7301                 109       237.50                   13  explorer   \n",
       "1342                 108       261.25                   12  explorer   \n",
       "2877                 101       219.00                    9  explorer   \n",
       "12017                116       228.50                   12  explorer   \n",
       "\n",
       "         distance  \n",
       "15725  228.947865  \n",
       "7301   229.674362  \n",
       "1342   231.272837  \n",
       "2877   232.032460  \n",
       "12017  233.203372  "
      ],
      "text/html": [
       "<div>\n",
       "<style scoped>\n",
       "    .dataframe tbody tr th:only-of-type {\n",
       "        vertical-align: middle;\n",
       "    }\n",
       "\n",
       "    .dataframe tbody tr th {\n",
       "        vertical-align: top;\n",
       "    }\n",
       "\n",
       "    .dataframe thead th {\n",
       "        text-align: right;\n",
       "    }\n",
       "</style>\n",
       "<table border=\"1\" class=\"dataframe\">\n",
       "  <thead>\n",
       "    <tr style=\"text-align: right;\">\n",
       "      <th></th>\n",
       "      <th>relationship_days</th>\n",
       "      <th>total_spend</th>\n",
       "      <th>beverage_categories</th>\n",
       "      <th>segment</th>\n",
       "      <th>distance</th>\n",
       "    </tr>\n",
       "  </thead>\n",
       "  <tbody>\n",
       "    <tr>\n",
       "      <th>15725</th>\n",
       "      <td>103</td>\n",
       "      <td>231.25</td>\n",
       "      <td>12</td>\n",
       "      <td>explorer</td>\n",
       "      <td>228.947865</td>\n",
       "    </tr>\n",
       "    <tr>\n",
       "      <th>7301</th>\n",
       "      <td>109</td>\n",
       "      <td>237.50</td>\n",
       "      <td>13</td>\n",
       "      <td>explorer</td>\n",
       "      <td>229.674362</td>\n",
       "    </tr>\n",
       "    <tr>\n",
       "      <th>1342</th>\n",
       "      <td>108</td>\n",
       "      <td>261.25</td>\n",
       "      <td>12</td>\n",
       "      <td>explorer</td>\n",
       "      <td>231.272837</td>\n",
       "    </tr>\n",
       "    <tr>\n",
       "      <th>2877</th>\n",
       "      <td>101</td>\n",
       "      <td>219.00</td>\n",
       "      <td>9</td>\n",
       "      <td>explorer</td>\n",
       "      <td>232.032460</td>\n",
       "    </tr>\n",
       "    <tr>\n",
       "      <th>12017</th>\n",
       "      <td>116</td>\n",
       "      <td>228.50</td>\n",
       "      <td>12</td>\n",
       "      <td>explorer</td>\n",
       "      <td>233.203372</td>\n",
       "    </tr>\n",
       "  </tbody>\n",
       "</table>\n",
       "</div>"
      ]
     },
     "execution_count": 10,
     "metadata": {},
     "output_type": "execute_result"
    }
   ],
   "execution_count": 10
  },
  {
   "metadata": {},
   "cell_type": "code",
   "outputs": [],
   "execution_count": null,
   "source": "",
   "id": "1efc977d8f4f4d00"
  },
  {
   "metadata": {},
   "cell_type": "code",
   "outputs": [],
   "execution_count": null,
   "source": "### Building KNN Model ###",
   "id": "f2b3e6092a131c50"
  },
  {
   "metadata": {
    "ExecuteTime": {
     "end_time": "2024-10-03T21:40:44.825156Z",
     "start_time": "2024-10-03T21:40:44.802835Z"
    }
   },
   "cell_type": "code",
   "source": [
    "k = 10\n",
    "training_df = training_df.sort_values('distance', ascending = True)\n",
    "knn = list(training_df.head(k).segment)\n",
    "knn"
   ],
   "id": "358fb2442690cce8",
   "outputs": [
    {
     "data": {
      "text/plain": [
       "['explorer',\n",
       " 'explorer',\n",
       " 'explorer',\n",
       " 'explorer',\n",
       " 'explorer',\n",
       " 'explorer',\n",
       " 'explorer',\n",
       " 'explorer',\n",
       " 'explorer',\n",
       " 'explorer']"
      ]
     },
     "execution_count": 11,
     "metadata": {},
     "output_type": "execute_result"
    }
   ],
   "execution_count": 11
  },
  {
   "metadata": {},
   "cell_type": "code",
   "outputs": [],
   "execution_count": null,
   "source": "",
   "id": "34e8eb5f9f9e1ab3"
  },
  {
   "metadata": {},
   "cell_type": "code",
   "outputs": [],
   "execution_count": null,
   "source": "### Reading in Testing Data ###",
   "id": "dd2eb259a358a7b9"
  },
  {
   "metadata": {
    "ExecuteTime": {
     "end_time": "2024-10-03T21:41:29.859067Z",
     "start_time": "2024-10-03T21:41:29.838958Z"
    }
   },
   "cell_type": "code",
   "source": "testing_df = pd.read_csv(r\"C:\\Users\\Epicm\\Desktop\\data\\knn\\knn-testing-data.txt\")",
   "id": "235cba368e7c8bef",
   "outputs": [],
   "execution_count": 12
  },
  {
   "metadata": {
    "ExecuteTime": {
     "end_time": "2024-10-03T21:41:50.060793Z",
     "start_time": "2024-10-03T21:41:50.045148Z"
    }
   },
   "cell_type": "code",
   "source": [
    "del testing_df['most_popular_category']\n",
    "\n",
    "#create a testing prediction column\n",
    "testing_df['prediction']=''"
   ],
   "id": "48536440209ec89a",
   "outputs": [],
   "execution_count": 13
  },
  {
   "metadata": {
    "ExecuteTime": {
     "end_time": "2024-10-03T21:42:00.221361Z",
     "start_time": "2024-10-03T21:42:00.213213Z"
    }
   },
   "cell_type": "code",
   "source": [
    "#choose our target customer to compare the rest too\n",
    "\n",
    "the_cust = testing_df.iloc[0,:]"
   ],
   "id": "162b2cd3af3a9e77",
   "outputs": [],
   "execution_count": 14
  },
  {
   "metadata": {
    "ExecuteTime": {
     "end_time": "2024-10-03T21:43:10.063085Z",
     "start_time": "2024-10-03T21:43:10.046942Z"
    }
   },
   "cell_type": "code",
   "source": [
    "# calculate my euclidean distance\n",
    "\n",
    "training_df['distance'] = (\n",
    "    ((training_df.loc[:, 'relationship_days'] - the_cust.iloc[1])**2 + \n",
    "     (training_df.loc[:, 'total_spend'] - the_cust.iloc[2])**2 + \n",
    "     (training_df.loc[:, 'beverage_categories'] - the_cust.iloc[3])**2) ** 0.5\n",
    ")\n",
    "\n",
    "## This code calculates the Euclidean distance between each customer in the training_df dataset and a specific customer (the_cust) based on three features: relationship_days, total_spend, and beverage_categories. The distances are stored in a new column called distance. This distance helps quantify how similar each customer is to the specific customer, where smaller values indicate higher similarity.\n",
    "\n"
   ],
   "id": "7b6b7712063f2206",
   "outputs": [],
   "execution_count": 16
  },
  {
   "metadata": {},
   "cell_type": "code",
   "outputs": [],
   "execution_count": null,
   "source": "",
   "id": "5c21e3df1b276bbe"
  },
  {
   "metadata": {},
   "cell_type": "code",
   "outputs": [],
   "execution_count": null,
   "source": "",
   "id": "e22f54da184b65d9"
  },
  {
   "metadata": {},
   "cell_type": "code",
   "outputs": [],
   "execution_count": null,
   "source": "## RESULTS ###",
   "id": "48c3c06602494ba9"
  },
  {
   "metadata": {
    "ExecuteTime": {
     "end_time": "2024-10-03T21:43:38.849796Z",
     "start_time": "2024-10-03T21:43:38.825292Z"
    }
   },
   "cell_type": "code",
   "source": "training_df.sort_values('distance', ascending=True).head()",
   "id": "8e7e317fd10e8dbf",
   "outputs": [
    {
     "data": {
      "text/plain": [
       "       relationship_days  total_spend  beverage_categories   segment  distance\n",
       "321                  224       144.00                    4  explorer  1.414214\n",
       "2407                 224       146.00                    2  explorer  3.162278\n",
       "1823                 223       148.00                    5  explorer  3.162278\n",
       "5667                 227       140.75                    6  explorer  5.297405\n",
       "11612                222       149.50                    7  explorer  5.315073"
      ],
      "text/html": [
       "<div>\n",
       "<style scoped>\n",
       "    .dataframe tbody tr th:only-of-type {\n",
       "        vertical-align: middle;\n",
       "    }\n",
       "\n",
       "    .dataframe tbody tr th {\n",
       "        vertical-align: top;\n",
       "    }\n",
       "\n",
       "    .dataframe thead th {\n",
       "        text-align: right;\n",
       "    }\n",
       "</style>\n",
       "<table border=\"1\" class=\"dataframe\">\n",
       "  <thead>\n",
       "    <tr style=\"text-align: right;\">\n",
       "      <th></th>\n",
       "      <th>relationship_days</th>\n",
       "      <th>total_spend</th>\n",
       "      <th>beverage_categories</th>\n",
       "      <th>segment</th>\n",
       "      <th>distance</th>\n",
       "    </tr>\n",
       "  </thead>\n",
       "  <tbody>\n",
       "    <tr>\n",
       "      <th>321</th>\n",
       "      <td>224</td>\n",
       "      <td>144.00</td>\n",
       "      <td>4</td>\n",
       "      <td>explorer</td>\n",
       "      <td>1.414214</td>\n",
       "    </tr>\n",
       "    <tr>\n",
       "      <th>2407</th>\n",
       "      <td>224</td>\n",
       "      <td>146.00</td>\n",
       "      <td>2</td>\n",
       "      <td>explorer</td>\n",
       "      <td>3.162278</td>\n",
       "    </tr>\n",
       "    <tr>\n",
       "      <th>1823</th>\n",
       "      <td>223</td>\n",
       "      <td>148.00</td>\n",
       "      <td>5</td>\n",
       "      <td>explorer</td>\n",
       "      <td>3.162278</td>\n",
       "    </tr>\n",
       "    <tr>\n",
       "      <th>5667</th>\n",
       "      <td>227</td>\n",
       "      <td>140.75</td>\n",
       "      <td>6</td>\n",
       "      <td>explorer</td>\n",
       "      <td>5.297405</td>\n",
       "    </tr>\n",
       "    <tr>\n",
       "      <th>11612</th>\n",
       "      <td>222</td>\n",
       "      <td>149.50</td>\n",
       "      <td>7</td>\n",
       "      <td>explorer</td>\n",
       "      <td>5.315073</td>\n",
       "    </tr>\n",
       "  </tbody>\n",
       "</table>\n",
       "</div>"
      ]
     },
     "execution_count": 17,
     "metadata": {},
     "output_type": "execute_result"
    }
   ],
   "execution_count": 17
  },
  {
   "metadata": {
    "ExecuteTime": {
     "end_time": "2024-10-03T21:43:51.228204Z",
     "start_time": "2024-10-03T21:43:51.204506Z"
    }
   },
   "cell_type": "code",
   "source": [
    "k = 10\n",
    "training_df = training_df.sort_values('distance', ascending = True)\n",
    "knn = list(training_df.head(k).segment)\n",
    "knn"
   ],
   "id": "539c44232c6e80c7",
   "outputs": [
    {
     "data": {
      "text/plain": [
       "['explorer',\n",
       " 'explorer',\n",
       " 'explorer',\n",
       " 'explorer',\n",
       " 'explorer',\n",
       " 'explorer',\n",
       " 'explorer',\n",
       " 'explorer',\n",
       " 'explorer',\n",
       " 'explorer']"
      ]
     },
     "execution_count": 18,
     "metadata": {},
     "output_type": "execute_result"
    }
   ],
   "execution_count": 18
  },
  {
   "metadata": {},
   "cell_type": "code",
   "outputs": [],
   "execution_count": null,
   "source": "",
   "id": "b19e07abaf7c8021"
  },
  {
   "metadata": {},
   "cell_type": "code",
   "outputs": [],
   "execution_count": null,
   "source": "## TESTING THE PREDICTION ON ONE DATA SET ROW ###",
   "id": "d52aabada10f9ffc"
  },
  {
   "metadata": {
    "ExecuteTime": {
     "end_time": "2024-10-03T21:44:24.228467Z",
     "start_time": "2024-10-03T21:44:24.212383Z"
    }
   },
   "cell_type": "code",
   "source": [
    "k = 10\n",
    "\n",
    "prediction = mode(training_df.sort_values('distance', ascending=True).head(k).segment)"
   ],
   "id": "26671614e7eb6f6f",
   "outputs": [],
   "execution_count": 19
  },
  {
   "metadata": {
    "ExecuteTime": {
     "end_time": "2024-10-03T21:44:33.134423Z",
     "start_time": "2024-10-03T21:44:33.119386Z"
    }
   },
   "cell_type": "code",
   "source": "testing_df.iloc[0,4] = prediction",
   "id": "f9ad42e877d0a354",
   "outputs": [],
   "execution_count": 20
  },
  {
   "metadata": {
    "ExecuteTime": {
     "end_time": "2024-10-03T21:44:51.291656Z",
     "start_time": "2024-10-03T21:44:51.275647Z"
    }
   },
   "cell_type": "code",
   "source": "testing_df.head()",
   "id": "d5cb4218a838177f",
   "outputs": [
    {
     "data": {
      "text/plain": [
       "                    customer_id  relationship_days  total_spend  \\\n",
       "0  , 9GT0P908DS5VGJYRYG4CHAPSQG                224        145.0   \n",
       "1  , D74N0TBT7D2K6YPYDA734V56Y4                272        152.5   \n",
       "2  , XHN902RSGS7V6ZBWN7FE5QVGA4                371         55.0   \n",
       "3            , YDZ8kOpLlCLDlmom                609        159.0   \n",
       "4              -uNXHhkiA5JEebdj                802        107.0   \n",
       "\n",
       "   beverage_categories prediction  \n",
       "0                    5   explorer  \n",
       "1                    5             \n",
       "2                    3             \n",
       "3                    6             \n",
       "4                    8             "
      ],
      "text/html": [
       "<div>\n",
       "<style scoped>\n",
       "    .dataframe tbody tr th:only-of-type {\n",
       "        vertical-align: middle;\n",
       "    }\n",
       "\n",
       "    .dataframe tbody tr th {\n",
       "        vertical-align: top;\n",
       "    }\n",
       "\n",
       "    .dataframe thead th {\n",
       "        text-align: right;\n",
       "    }\n",
       "</style>\n",
       "<table border=\"1\" class=\"dataframe\">\n",
       "  <thead>\n",
       "    <tr style=\"text-align: right;\">\n",
       "      <th></th>\n",
       "      <th>customer_id</th>\n",
       "      <th>relationship_days</th>\n",
       "      <th>total_spend</th>\n",
       "      <th>beverage_categories</th>\n",
       "      <th>prediction</th>\n",
       "    </tr>\n",
       "  </thead>\n",
       "  <tbody>\n",
       "    <tr>\n",
       "      <th>0</th>\n",
       "      <td>, 9GT0P908DS5VGJYRYG4CHAPSQG</td>\n",
       "      <td>224</td>\n",
       "      <td>145.0</td>\n",
       "      <td>5</td>\n",
       "      <td>explorer</td>\n",
       "    </tr>\n",
       "    <tr>\n",
       "      <th>1</th>\n",
       "      <td>, D74N0TBT7D2K6YPYDA734V56Y4</td>\n",
       "      <td>272</td>\n",
       "      <td>152.5</td>\n",
       "      <td>5</td>\n",
       "      <td></td>\n",
       "    </tr>\n",
       "    <tr>\n",
       "      <th>2</th>\n",
       "      <td>, XHN902RSGS7V6ZBWN7FE5QVGA4</td>\n",
       "      <td>371</td>\n",
       "      <td>55.0</td>\n",
       "      <td>3</td>\n",
       "      <td></td>\n",
       "    </tr>\n",
       "    <tr>\n",
       "      <th>3</th>\n",
       "      <td>, YDZ8kOpLlCLDlmom</td>\n",
       "      <td>609</td>\n",
       "      <td>159.0</td>\n",
       "      <td>6</td>\n",
       "      <td></td>\n",
       "    </tr>\n",
       "    <tr>\n",
       "      <th>4</th>\n",
       "      <td>-uNXHhkiA5JEebdj</td>\n",
       "      <td>802</td>\n",
       "      <td>107.0</td>\n",
       "      <td>8</td>\n",
       "      <td></td>\n",
       "    </tr>\n",
       "  </tbody>\n",
       "</table>\n",
       "</div>"
      ]
     },
     "execution_count": 21,
     "metadata": {},
     "output_type": "execute_result"
    }
   ],
   "execution_count": 21
  },
  {
   "metadata": {},
   "cell_type": "code",
   "outputs": [],
   "execution_count": null,
   "source": "",
   "id": "dcb5c60b38687d14"
  },
  {
   "metadata": {},
   "cell_type": "code",
   "outputs": [],
   "execution_count": null,
   "source": "### Testing Prediction on all dataset Rows ###",
   "id": "611d205e2b3afeb9"
  },
  {
   "metadata": {
    "ExecuteTime": {
     "end_time": "2024-10-03T21:46:48.451001Z",
     "start_time": "2024-10-03T21:46:43.301839Z"
    }
   },
   "cell_type": "code",
   "source": [
    "k = 25\n",
    "\n",
    "# This allows us to iterate over all rows in our testing_df\n",
    "for row_idx in range(testing_df.shape[0]):\n",
    "    \n",
    "    # The customer is changed every iteration\n",
    "    the_cust = testing_df.iloc[row_idx, :]\n",
    "    \n",
    "    # Distance calculation with .iloc for proper positional indexing\n",
    "    training_df['distance'] = (\n",
    "        ((training_df['relationship_days'] - the_cust.iloc[1]) ** 2 +\n",
    "         (training_df['total_spend'] - the_cust.iloc[2]) ** 2 +\n",
    "         (training_df['beverage_categories'] - the_cust.iloc[3]) ** 2) ** 0.5\n",
    "    )\n",
    "    \n",
    "    # Prediction line\n",
    "    prediction = mode(training_df.sort_values('distance', ascending=True).head(k)['segment'])\n",
    "    \n",
    "    # Update the prediction in the testing_df at the corresponding row\n",
    "    testing_df.iloc[row_idx, 4] = prediction\n",
    "\n",
    "    # Uncomment this block if you want to limit iterations for debugging\n",
    "    # if row_idx > 10:\n",
    "    #     break\n"
   ],
   "id": "1a3a827dd647727e",
   "outputs": [],
   "execution_count": 23
  },
  {
   "metadata": {},
   "cell_type": "code",
   "outputs": [],
   "execution_count": null,
   "source": "",
   "id": "af8ec8bc64db3487"
  },
  {
   "metadata": {},
   "cell_type": "code",
   "outputs": [],
   "execution_count": null,
   "source": "# RESULTS # ",
   "id": "91f7ba2ce5718d77"
  },
  {
   "metadata": {
    "ExecuteTime": {
     "end_time": "2024-10-03T21:47:14.011341Z",
     "start_time": "2024-10-03T21:47:13.990278Z"
    }
   },
   "cell_type": "code",
   "source": "testing_df.value_counts('prediction')",
   "id": "fb89e38c86fd9884",
   "outputs": [
    {
     "data": {
      "text/plain": [
       "prediction\n",
       "newbie        562\n",
       "loyal core    516\n",
       "cheapo        451\n",
       "explorer      260\n",
       "Name: count, dtype: int64"
      ]
     },
     "execution_count": 24,
     "metadata": {},
     "output_type": "execute_result"
    }
   ],
   "execution_count": 24
  },
  {
   "metadata": {
    "ExecuteTime": {
     "end_time": "2024-10-03T21:47:28.230397Z",
     "start_time": "2024-10-03T21:47:28.216441Z"
    }
   },
   "cell_type": "code",
   "source": "testing_df.head(10)",
   "id": "f1fcc30a5059a587",
   "outputs": [
    {
     "data": {
      "text/plain": [
       "                    customer_id  relationship_days  total_spend  \\\n",
       "0  , 9GT0P908DS5VGJYRYG4CHAPSQG                224       145.00   \n",
       "1  , D74N0TBT7D2K6YPYDA734V56Y4                272       152.50   \n",
       "2  , XHN902RSGS7V6ZBWN7FE5QVGA4                371        55.00   \n",
       "3            , YDZ8kOpLlCLDlmom                609       159.00   \n",
       "4              -uNXHhkiA5JEebdj                802       107.00   \n",
       "5    00GN9QQ53H639C9EW0KJRKGN5W                213        92.00   \n",
       "6    00M2PX68JH0E2Y44BSXPB8WPR8                590       123.00   \n",
       "7    00PYAN31NH58CYD297MVV2JQTC                559        94.50   \n",
       "8    00R2NCKF4X5SCSTW59HRY5VDG8                314        79.00   \n",
       "9    00ZSCPVYFH2TEMWQTV6M8PC3K0                393       378.25   \n",
       "\n",
       "   beverage_categories  prediction  \n",
       "0                    5    explorer  \n",
       "1                    5    explorer  \n",
       "2                    3      cheapo  \n",
       "3                    6  loyal core  \n",
       "4                    8  loyal core  \n",
       "5                    2      newbie  \n",
       "6                   12  loyal core  \n",
       "7                    5      cheapo  \n",
       "8                    6      newbie  \n",
       "9                   13  loyal core  "
      ],
      "text/html": [
       "<div>\n",
       "<style scoped>\n",
       "    .dataframe tbody tr th:only-of-type {\n",
       "        vertical-align: middle;\n",
       "    }\n",
       "\n",
       "    .dataframe tbody tr th {\n",
       "        vertical-align: top;\n",
       "    }\n",
       "\n",
       "    .dataframe thead th {\n",
       "        text-align: right;\n",
       "    }\n",
       "</style>\n",
       "<table border=\"1\" class=\"dataframe\">\n",
       "  <thead>\n",
       "    <tr style=\"text-align: right;\">\n",
       "      <th></th>\n",
       "      <th>customer_id</th>\n",
       "      <th>relationship_days</th>\n",
       "      <th>total_spend</th>\n",
       "      <th>beverage_categories</th>\n",
       "      <th>prediction</th>\n",
       "    </tr>\n",
       "  </thead>\n",
       "  <tbody>\n",
       "    <tr>\n",
       "      <th>0</th>\n",
       "      <td>, 9GT0P908DS5VGJYRYG4CHAPSQG</td>\n",
       "      <td>224</td>\n",
       "      <td>145.00</td>\n",
       "      <td>5</td>\n",
       "      <td>explorer</td>\n",
       "    </tr>\n",
       "    <tr>\n",
       "      <th>1</th>\n",
       "      <td>, D74N0TBT7D2K6YPYDA734V56Y4</td>\n",
       "      <td>272</td>\n",
       "      <td>152.50</td>\n",
       "      <td>5</td>\n",
       "      <td>explorer</td>\n",
       "    </tr>\n",
       "    <tr>\n",
       "      <th>2</th>\n",
       "      <td>, XHN902RSGS7V6ZBWN7FE5QVGA4</td>\n",
       "      <td>371</td>\n",
       "      <td>55.00</td>\n",
       "      <td>3</td>\n",
       "      <td>cheapo</td>\n",
       "    </tr>\n",
       "    <tr>\n",
       "      <th>3</th>\n",
       "      <td>, YDZ8kOpLlCLDlmom</td>\n",
       "      <td>609</td>\n",
       "      <td>159.00</td>\n",
       "      <td>6</td>\n",
       "      <td>loyal core</td>\n",
       "    </tr>\n",
       "    <tr>\n",
       "      <th>4</th>\n",
       "      <td>-uNXHhkiA5JEebdj</td>\n",
       "      <td>802</td>\n",
       "      <td>107.00</td>\n",
       "      <td>8</td>\n",
       "      <td>loyal core</td>\n",
       "    </tr>\n",
       "    <tr>\n",
       "      <th>5</th>\n",
       "      <td>00GN9QQ53H639C9EW0KJRKGN5W</td>\n",
       "      <td>213</td>\n",
       "      <td>92.00</td>\n",
       "      <td>2</td>\n",
       "      <td>newbie</td>\n",
       "    </tr>\n",
       "    <tr>\n",
       "      <th>6</th>\n",
       "      <td>00M2PX68JH0E2Y44BSXPB8WPR8</td>\n",
       "      <td>590</td>\n",
       "      <td>123.00</td>\n",
       "      <td>12</td>\n",
       "      <td>loyal core</td>\n",
       "    </tr>\n",
       "    <tr>\n",
       "      <th>7</th>\n",
       "      <td>00PYAN31NH58CYD297MVV2JQTC</td>\n",
       "      <td>559</td>\n",
       "      <td>94.50</td>\n",
       "      <td>5</td>\n",
       "      <td>cheapo</td>\n",
       "    </tr>\n",
       "    <tr>\n",
       "      <th>8</th>\n",
       "      <td>00R2NCKF4X5SCSTW59HRY5VDG8</td>\n",
       "      <td>314</td>\n",
       "      <td>79.00</td>\n",
       "      <td>6</td>\n",
       "      <td>newbie</td>\n",
       "    </tr>\n",
       "    <tr>\n",
       "      <th>9</th>\n",
       "      <td>00ZSCPVYFH2TEMWQTV6M8PC3K0</td>\n",
       "      <td>393</td>\n",
       "      <td>378.25</td>\n",
       "      <td>13</td>\n",
       "      <td>loyal core</td>\n",
       "    </tr>\n",
       "  </tbody>\n",
       "</table>\n",
       "</div>"
      ]
     },
     "execution_count": 25,
     "metadata": {},
     "output_type": "execute_result"
    }
   ],
   "execution_count": 25
  },
  {
   "metadata": {},
   "cell_type": "code",
   "outputs": [],
   "execution_count": null,
   "source": "",
   "id": "bc20570f4813ee8e"
  },
  {
   "metadata": {},
   "cell_type": "code",
   "outputs": [],
   "execution_count": null,
   "source": "### Read in Comparison Data ### ",
   "id": "3619f39b2d14cd75"
  },
  {
   "metadata": {
    "ExecuteTime": {
     "end_time": "2024-10-03T21:55:58.508096Z",
     "start_time": "2024-10-03T21:55:58.473211Z"
    }
   },
   "cell_type": "code",
   "source": "evaluation_df = pd.read_csv(r\"C:\\Users\\Epicm\\Desktop\\data\\knn\\testing-true-values.txt\")",
   "id": "3d6dbfbf6cf7c00a",
   "outputs": [],
   "execution_count": 26
  },
  {
   "metadata": {},
   "cell_type": "code",
   "outputs": [],
   "execution_count": null,
   "source": "",
   "id": "fa2c42bd4f4cb20"
  },
  {
   "metadata": {},
   "cell_type": "code",
   "outputs": [],
   "execution_count": null,
   "source": "### Joining my evaluation_df to my testing_df ###",
   "id": "2fc51d515574a91a"
  },
  {
   "metadata": {
    "ExecuteTime": {
     "end_time": "2024-10-03T21:56:31.179881Z",
     "start_time": "2024-10-03T21:56:31.146327Z"
    }
   },
   "cell_type": "code",
   "source": "testing_df = testing_df.merge(evaluation_df, on = 'customer_id')",
   "id": "ed6d2c5c80e9251d",
   "outputs": [],
   "execution_count": 27
  },
  {
   "metadata": {
    "ExecuteTime": {
     "end_time": "2024-10-03T21:56:48.686815Z",
     "start_time": "2024-10-03T21:56:48.671607Z"
    }
   },
   "cell_type": "code",
   "source": "testing_df.head()",
   "id": "c58096558ef64bf0",
   "outputs": [
    {
     "data": {
      "text/plain": [
       "                    customer_id  relationship_days  total_spend  \\\n",
       "0  , 9GT0P908DS5VGJYRYG4CHAPSQG                224        145.0   \n",
       "1  , D74N0TBT7D2K6YPYDA734V56Y4                272        152.5   \n",
       "2  , XHN902RSGS7V6ZBWN7FE5QVGA4                371         55.0   \n",
       "3            , YDZ8kOpLlCLDlmom                609        159.0   \n",
       "4              -uNXHhkiA5JEebdj                802        107.0   \n",
       "\n",
       "   beverage_categories  prediction     segment  \n",
       "0                    5    explorer    explorer  \n",
       "1                    5    explorer    explorer  \n",
       "2                    3      cheapo      cheapo  \n",
       "3                    6  loyal core  loyal core  \n",
       "4                    8  loyal core  loyal core  "
      ],
      "text/html": [
       "<div>\n",
       "<style scoped>\n",
       "    .dataframe tbody tr th:only-of-type {\n",
       "        vertical-align: middle;\n",
       "    }\n",
       "\n",
       "    .dataframe tbody tr th {\n",
       "        vertical-align: top;\n",
       "    }\n",
       "\n",
       "    .dataframe thead th {\n",
       "        text-align: right;\n",
       "    }\n",
       "</style>\n",
       "<table border=\"1\" class=\"dataframe\">\n",
       "  <thead>\n",
       "    <tr style=\"text-align: right;\">\n",
       "      <th></th>\n",
       "      <th>customer_id</th>\n",
       "      <th>relationship_days</th>\n",
       "      <th>total_spend</th>\n",
       "      <th>beverage_categories</th>\n",
       "      <th>prediction</th>\n",
       "      <th>segment</th>\n",
       "    </tr>\n",
       "  </thead>\n",
       "  <tbody>\n",
       "    <tr>\n",
       "      <th>0</th>\n",
       "      <td>, 9GT0P908DS5VGJYRYG4CHAPSQG</td>\n",
       "      <td>224</td>\n",
       "      <td>145.0</td>\n",
       "      <td>5</td>\n",
       "      <td>explorer</td>\n",
       "      <td>explorer</td>\n",
       "    </tr>\n",
       "    <tr>\n",
       "      <th>1</th>\n",
       "      <td>, D74N0TBT7D2K6YPYDA734V56Y4</td>\n",
       "      <td>272</td>\n",
       "      <td>152.5</td>\n",
       "      <td>5</td>\n",
       "      <td>explorer</td>\n",
       "      <td>explorer</td>\n",
       "    </tr>\n",
       "    <tr>\n",
       "      <th>2</th>\n",
       "      <td>, XHN902RSGS7V6ZBWN7FE5QVGA4</td>\n",
       "      <td>371</td>\n",
       "      <td>55.0</td>\n",
       "      <td>3</td>\n",
       "      <td>cheapo</td>\n",
       "      <td>cheapo</td>\n",
       "    </tr>\n",
       "    <tr>\n",
       "      <th>3</th>\n",
       "      <td>, YDZ8kOpLlCLDlmom</td>\n",
       "      <td>609</td>\n",
       "      <td>159.0</td>\n",
       "      <td>6</td>\n",
       "      <td>loyal core</td>\n",
       "      <td>loyal core</td>\n",
       "    </tr>\n",
       "    <tr>\n",
       "      <th>4</th>\n",
       "      <td>-uNXHhkiA5JEebdj</td>\n",
       "      <td>802</td>\n",
       "      <td>107.0</td>\n",
       "      <td>8</td>\n",
       "      <td>loyal core</td>\n",
       "      <td>loyal core</td>\n",
       "    </tr>\n",
       "  </tbody>\n",
       "</table>\n",
       "</div>"
      ]
     },
     "execution_count": 28,
     "metadata": {},
     "output_type": "execute_result"
    }
   ],
   "execution_count": 28
  },
  {
   "metadata": {},
   "cell_type": "code",
   "outputs": [],
   "execution_count": null,
   "source": "",
   "id": "8f3a8003409bd9bd"
  },
  {
   "metadata": {},
   "cell_type": "code",
   "outputs": [],
   "execution_count": null,
   "source": "## Final Results ##",
   "id": "38f0c7fe0eeabee7"
  },
  {
   "metadata": {
    "ExecuteTime": {
     "end_time": "2024-10-03T21:57:50.604423Z",
     "start_time": "2024-10-03T21:57:50.588109Z"
    }
   },
   "cell_type": "code",
   "source": "print(confusion_matrix(testing_df.prediction, testing_df.segment))",
   "id": "f0f61e1d4d6aec05",
   "outputs": [
    {
     "name": "stdout",
     "output_type": "stream",
     "text": [
      "[[444   0   7   0]\n",
      " [  0 258   1   1]\n",
      " [  0   3 513   0]\n",
      " [  0   1   0 561]]\n"
     ]
    }
   ],
   "execution_count": 32
  },
  {
   "metadata": {
    "ExecuteTime": {
     "end_time": "2024-10-03T21:59:33.423055Z",
     "start_time": "2024-10-03T21:59:33.359012Z"
    }
   },
   "cell_type": "code",
   "source": "print(classification_report(testing_df['prediction'], testing_df['segment']))",
   "id": "38546bffcd3b9f76",
   "outputs": [
    {
     "name": "stdout",
     "output_type": "stream",
     "text": [
      "              precision    recall  f1-score   support\n",
      "\n",
      "      cheapo       1.00      0.98      0.99       451\n",
      "    explorer       0.98      0.99      0.99       260\n",
      "  loyal core       0.98      0.99      0.99       516\n",
      "      newbie       1.00      1.00      1.00       562\n",
      "\n",
      "    accuracy                           0.99      1789\n",
      "   macro avg       0.99      0.99      0.99      1789\n",
      "weighted avg       0.99      0.99      0.99      1789\n",
      "\n"
     ]
    }
   ],
   "execution_count": 34
  },
  {
   "metadata": {},
   "cell_type": "code",
   "outputs": [],
   "execution_count": null,
   "source": "# Here we can see the accuracy of my KNN model is .99.",
   "id": "bb6fc5e020dd39e4"
  },
  {
   "metadata": {},
   "cell_type": "code",
   "outputs": [],
   "execution_count": null,
   "source": "",
   "id": "3c8e3d1fc272c806"
  },
  {
   "metadata": {},
   "cell_type": "code",
   "outputs": [],
   "execution_count": null,
   "source": "",
   "id": "bedde34e9e486c3c"
  },
  {
   "metadata": {},
   "cell_type": "code",
   "outputs": [],
   "execution_count": null,
   "source": "",
   "id": "fd398c220ea3ff9e"
  },
  {
   "metadata": {},
   "cell_type": "code",
   "outputs": [],
   "execution_count": null,
   "source": "",
   "id": "83485a4aae2a31e5"
  },
  {
   "metadata": {},
   "cell_type": "code",
   "outputs": [],
   "execution_count": null,
   "source": "",
   "id": "4077844b2a813065"
  },
  {
   "metadata": {},
   "cell_type": "code",
   "outputs": [],
   "execution_count": null,
   "source": "",
   "id": "5b2c034b2233ade1"
  },
  {
   "metadata": {},
   "cell_type": "code",
   "outputs": [],
   "execution_count": null,
   "source": "",
   "id": "97b9f9bf86ceb0a"
  },
  {
   "metadata": {},
   "cell_type": "code",
   "outputs": [],
   "execution_count": null,
   "source": "",
   "id": "9725b90c180dbba9"
  },
  {
   "metadata": {},
   "cell_type": "code",
   "outputs": [],
   "execution_count": null,
   "source": "",
   "id": "4dec0dffece58760"
  }
 ],
 "metadata": {
  "kernelspec": {
   "display_name": "Python 3",
   "language": "python",
   "name": "python3"
  },
  "language_info": {
   "codemirror_mode": {
    "name": "ipython",
    "version": 2
   },
   "file_extension": ".py",
   "mimetype": "text/x-python",
   "name": "python",
   "nbconvert_exporter": "python",
   "pygments_lexer": "ipython2",
   "version": "2.7.6"
  }
 },
 "nbformat": 4,
 "nbformat_minor": 5
}
